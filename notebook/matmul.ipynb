{
 "cells": [
  {
   "cell_type": "code",
   "execution_count": 15,
   "metadata": {},
   "outputs": [],
   "source": [
    "import pennylane as qml\n",
    "from pennylane import numpy as np\n",
    "import matplotlib.pyplot as plt\n",
    "import scienceplots\n",
    "\n",
    "qml.drawer.use_style(style='sketch')"
   ]
  },
  {
   "cell_type": "markdown",
   "metadata": {},
   "source": [
    "## Description of Quantum matrix multiplication algorithm"
   ]
  },
  {
   "cell_type": "markdown",
   "metadata": {},
   "source": [
    "### Classical matrix multiplication\n",
    "\n",
    "**Problem**: Given positive definite matrix $A$ and the vector $x$, find the vector $b$ such that $b = Ax$.\n",
    "\n",
    "1. Find eigenvalues and eigenvectors of $A$.\n",
    "   $$\n",
    "   Av_r = \\lambda_r v_r\n",
    "   $$\n",
    "\n",
    "2. Express $x$ in terms of eigenvectors of $A$.\n",
    "   $$\n",
    "   x = \\sum_{r=1}^{R} (v_r^T x) v_r\n",
    "   $$\n",
    "\n",
    "3. Multiply $A$ and $x$.\n",
    "   $$\n",
    "   Ax = \\sum_{r=1}^{R} \\lambda_r (v_r^T x) v_r\n",
    "   $$"
   ]
  },
  {
   "cell_type": "markdown",
   "metadata": {},
   "source": [
    "### Quantum matrix multiplication\n",
    "\n",
    "1. Prepare the quantum state $|\\psi_x\\rangle$ corresponding to the vector $x$ via amplitude encoding.\n",
    "   $$\n",
    "   |\\psi_x\\rangle = \\sum_{r=1}^{R} x_i |i\\rangle\n",
    "   $$\n",
    "\n",
    "2. Encoding the matrix $A$ into a Hamiltonian $H_A$ using Hamiltonian encoding. (This step allows us to use non-hermitian $A$)\n",
    "   $$\n",
    "   H_A = \\begin{pmatrix} 0 & A \\\\ A^\\dagger & 0 \\end{pmatrix} \n",
    "   $$\n",
    "   Then the problem is changed to solve $H_A y = \\begin{pmatrix} b \\\\ 0 \\end{pmatrix}$ to obtain $y = \\begin{pmatrix} 0 \\\\ x \\end{pmatrix}$.\n",
    "\n",
    "3. Construct the unitary operator $U = e^{2\\pi i H_A}$ using _Hamiltonian simulation_.\n",
    "\n",
    "4. Prepare ancilla qubits and apply controlled sequence of $U$ to use the quantum phase estimation algorithm.\n",
    "   $$\n",
    "   \\frac{1}{\\sqrt{2^n}} \\sum_{k=0}^{2^n-1} U^k|k\\rangle |\\psi_x\\rangle = \\frac{1}{\\sqrt{2^n}} \\sum_{k=0}^{2^n-1} |k\\rangle \\sum_{r=1}^{R} e^{2\\pi i k \\lambda_r} \\langle \\psi_{v_r} | \\psi_x \\rangle |\\psi_{v_r}\\rangle\n",
    "   $$\n",
    "\n",
    "5. Apply QPE to register $|k\\rangle$ to obtain the eigenvalues $\\lambda_r$.\n",
    "   $$\n",
    "   \\frac{1}{\\sqrt{2^n}} \\sum_{r=1}^{R} \\alpha_{k|r} \\langle \\psi_{v_r} | \\psi_x \\rangle |k\\rangle |\\psi_{v_r}\\rangle\n",
    "   $$\n",
    "   We can find $|\\lambda_r\\rangle$ by measuring the register $|k\\rangle$.\n",
    "   $$\n",
    "   \\sum_{r=1}^R \\langle \\psi_{v_r} | \\psi_x \\rangle |\\lambda_r\\rangle |\\psi_{v_r}\\rangle\n",
    "   $$\n",
    "\n",
    "6. Use another ancilla qubit to encoding the eigenvalues into the amplitudes.\n",
    "   To implement this, use controlled sequence of rotation gates.\n",
    "   $$\n",
    "   \\sum_{r=1}^R \\langle \\psi_{v_r} | \\psi_x \\rangle |\\lambda_r\\rangle |\\psi_{v_r}\\rangle |0\\rangle \\rightarrow\n",
    "   \\sum_{r=1}^R \\langle \\psi_{v_r} | \\psi_x \\rangle |\\lambda_r\\rangle |\\psi_{v_r}\\rangle \\left( \\sqrt{1-\\lambda_r^2} |0\\rangle + \\lambda_r |1\\rangle \\right)\n",
    "   $$\n",
    "   > _How to implement the controlled rotation gates?_\n",
    "   >\n",
    "   > Our goal is to find $\\theta$ to input into the rotation gate $R_y(\\theta)$.\n",
    "   > $$\n",
    "   > \\begin{aligned}\n",
    "   >  R Y(\\theta)|0\\rangle_{\\mathrm{a}} & =\\left(\\begin{array}{cc}\n",
    "   >  \\cos \\left(\\frac{\\theta}{2}\\right) & -\\sin \\left(\\frac{\\theta}{2}\\right) \\\\\n",
    "   >  \\sin \\left(\\frac{\\theta}{2}\\right) & \\cos \\left(\\frac{\\theta}{2}\\right)\n",
    "   >  \\end{array}\\right)\\left(\\begin{array}{l}\n",
    "   >  1 \\\\\n",
    "   >  0\n",
    "   >  \\end{array}\\right) \\\\\n",
    "   >  & =\\cos \\left(\\frac{\\theta}{2}\\right)|0\\rangle_{\\mathrm{a}}+\\sin \\left(\\frac{\\theta}{2}\\right)|1\\rangle_{\\mathrm{a}}\n",
    "   >  \\end{aligned}\n",
    "   > $$\n",
    "   > Our desired $\\theta$ is $2\\arcsin\\left(\\dfrac{1}{\\lambda_r}\\right)$. From QPE, we can find the binary representation of $\\lambda_r$ and then calculate $\\theta$.\n",
    "\n",
    "7. Do branch selection: measure the ancilla qubit and continue only if we get $|1\\rangle$.\n",
    "   $$\n",
    "   \\sum_{r=1}^R \\lambda_r \\langle \\psi_{v_r} | \\psi_x \\rangle |\\lambda_r\\rangle |\\psi_{v_r}\\rangle |1\\rangle \\rightarrow \\sum_{r=1}^R \\lambda_r \\langle \\psi_{v_r} | \\psi_x \\rangle |\\psi_{v_r}\\rangle\n",
    "   $$\n",
    "   This result corresponds to a normalized version of $Ax$ in amplitude encoding."
   ]
  },
  {
   "cell_type": "markdown",
   "metadata": {},
   "source": [
    "## Prepare operations for QMM"
   ]
  },
  {
   "cell_type": "code",
   "execution_count": 20,
   "metadata": {},
   "outputs": [],
   "source": [
    "def unitary_matrix_from_hermitian(A):\n",
    "    eigenvalues, eigenvectors = np.linalg.eigh(A)\n",
    "    D = np.diag(np.exp(2j * np.pi * eigenvalues))\n",
    "    U = np.dot(eigenvectors, np.dot(D, eigenvectors.conj().T))\n",
    "    return U\n",
    "\n",
    "def hamiltonian_encoding(A):\n",
    "    I_first = np.array([[0, 1], [0, 0]])\n",
    "    I_second = np.array([[0, 0], [1, 0]])\n",
    "    H = np.kron(I_first, A) + np.kron(I_second, A.conj().T)\n",
    "    return H"
   ]
  },
  {
   "cell_type": "code",
   "execution_count": 21,
   "metadata": {},
   "outputs": [
    {
     "data": {
      "text/plain": [
       "tensor([[0, 0, 1, 2],\n",
       "        [0, 0, 1, 3],\n",
       "        [1, 1, 0, 0],\n",
       "        [2, 3, 0, 0]], requires_grad=True)"
      ]
     },
     "execution_count": 21,
     "metadata": {},
     "output_type": "execute_result"
    }
   ],
   "source": [
    "A = np.array([[1, 2], [1, 3]])\n",
    "H = hamiltonian_encoding(A)\n",
    "H"
   ]
  },
  {
   "cell_type": "code",
   "execution_count": 22,
   "metadata": {},
   "outputs": [
    {
     "data": {
      "text/plain": [
       "tensor([[ 1.81562209e-01-1.91513472e-15j,\n",
       "          3.35854164e-01-2.33146835e-15j,\n",
       "         -1.36002321e-15+6.04870071e-01j,\n",
       "         -2.66453526e-15-6.98834274e-01j],\n",
       "        [ 3.35854164e-01-2.30371278e-15j,\n",
       "          4.21458040e-01-2.88657986e-15j,\n",
       "         -1.09634524e-15-7.58397369e-01j,\n",
       "         -4.27435864e-15-3.66617691e-01j],\n",
       "        [-1.36002321e-15+6.04870071e-01j,\n",
       "         -1.09634524e-15-7.58397369e-01j,\n",
       "          3.76247104e-02-1.07552856e-15j,\n",
       "          2.39895831e-01-1.85962357e-15j],\n",
       "        [-2.69229083e-15-6.98834274e-01j,\n",
       "         -4.32986980e-15-3.66617691e-01j,\n",
       "          2.39895831e-01-1.85962357e-15j,\n",
       "          5.65395539e-01-3.94129174e-15j]], requires_grad=True)"
      ]
     },
     "execution_count": 22,
     "metadata": {},
     "output_type": "execute_result"
    }
   ],
   "source": [
    "U = unitary_matrix_from_hermitian(H)\n",
    "U"
   ]
  },
  {
   "cell_type": "code",
   "execution_count": 23,
   "metadata": {},
   "outputs": [
    {
     "data": {
      "text/plain": [
       "True"
      ]
     },
     "execution_count": 23,
     "metadata": {},
     "output_type": "execute_result"
    }
   ],
   "source": [
    "# is unitary?\n",
    "np.allclose(U @ U.conj().T, np.identity(4))"
   ]
  },
  {
   "cell_type": "code",
   "execution_count": 24,
   "metadata": {},
   "outputs": [],
   "source": [
    "# QPE\n",
    "def convert_theta(theta):\n",
    "    # to input PhaseShift gate\n",
    "    return 2 * theta * np.pi\n",
    "\n",
    "def gen_qpe_circuit(n:int, dev):\n",
    "    @qml.qnode(dev)\n",
    "    def circuit(theta:float):\n",
    "        # For an eigenstate |psi> of U (PhaseShift gate)\n",
    "        qml.PauliX(wires=n)\n",
    "\n",
    "        # Apply Hadamard gate to the first n qubits\n",
    "        for i in range(n):\n",
    "            qml.Hadamard(wires=i)\n",
    "        \n",
    "        # Apply controlled unitary operations\n",
    "        #for i in reversed(range(n)):\n",
    "            #qml.ControlledPhaseShift(convert_theta(theta) * 2**(n-1-i), wires=[i, n])\n",
    "        qml.ControlledSequence(qml.PhaseShift(convert_theta(theta), wires=n), control=range(n))\n",
    "        \n",
    "        # Apply inverse QFT\n",
    "        qml.adjoint(qml.QFT)(wires=range(n))\n",
    "\n",
    "        return qml.probs(wires=range(n))\n",
    "\n",
    "    return circuit"
   ]
  },
  {
   "cell_type": "code",
   "execution_count": null,
   "metadata": {},
   "outputs": [],
   "source": [
    "def gen_qmm(n: int, A):\n",
    "    U = unitary_matrix_from_hermitian(hamiltonian_encoding(A))\n",
    "    dev = qml.device(\"default.qubit\", wires=n+2) # ancilla, c-register, encoding x\n",
    "    @qml.qnode(dev)\n",
    "    def circuit(x):\n",
    "        # Encode the input vector x into the amplitudes of the state (here, only 2d vectors)\n",
    "        qml.AmplitudeEmbedding(features=x, wires=n+1, normalize=True)\n",
    "\n",
    "        # Apply Hadamard gate to the first n qubits\n",
    "        for i in range(1, n+1):\n",
    "            qml.Hadamard(wires=i)\n",
    "\n",
    "        # Apply controlled unitary operations\n",
    "        qml.ControlledSequence(qml.QubitUnitary(U, wires=n+1), control=range(1,n+1))\n",
    "\n",
    "        # Apply inverse QFT\n",
    "        qml.adjoint(qml.QFT)(wires=range(1,n+1))\n",
    "        # Then the state is |lambda> with highest probability\n",
    "\n",
    "        # Apply controlled rotations for |lambda> -> |lambda> (sqrt(1-lambda^2) |0> + lambda |1>)\n"
   ]
  }
 ],
 "metadata": {
  "kernelspec": {
   "display_name": ".venv",
   "language": "python",
   "name": "python3"
  },
  "language_info": {
   "codemirror_mode": {
    "name": "ipython",
    "version": 3
   },
   "file_extension": ".py",
   "mimetype": "text/x-python",
   "name": "python",
   "nbconvert_exporter": "python",
   "pygments_lexer": "ipython3",
   "version": "3.11.8"
  }
 },
 "nbformat": 4,
 "nbformat_minor": 2
}
